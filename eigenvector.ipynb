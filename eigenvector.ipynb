{
 "cells": [
  {
   "cell_type": "code",
   "execution_count": 2,
   "outputs": [],
   "source": [
    "from NetworkStructure import Generator\n",
    "from NetworkStructure import Discriminator\n",
    "import numpy as np\n",
    "import matplotlib.pyplot as plt\n",
    "from scipy.sparse.linalg import eigsh\n",
    "from torch.autograd import Variable\n",
    "from torch.functional import Tensor\n",
    "from torchvision import transforms\n",
    "from torch import nn\n",
    "import torch\n",
    "import torchextractor as tx\n",
    "import torchvision\n",
    "%matplotlib inline\n",
    "import torch"
   ],
   "metadata": {
    "collapsed": false,
    "pycharm": {
     "name": "#%%\n"
    }
   }
  },
  {
   "cell_type": "code",
   "execution_count": 3,
   "outputs": [],
   "source": [
    "# parameters\n",
    "image_size = 28\n",
    "img_shape = 1,28,28\n",
    "latent_dim = 100\n",
    "image_channel = 1\n",
    "batch_size = 1"
   ],
   "metadata": {
    "collapsed": false,
    "pycharm": {
     "name": "#%%\n"
    }
   }
  },
  {
   "cell_type": "code",
   "execution_count": 4,
   "outputs": [],
   "source": [
    "data_transform = transforms.Compose(\n",
    "    [\n",
    "        transforms.CenterCrop(28),\n",
    "        transforms.ToTensor(),\n",
    "        transforms.Normalize(0.5, 0.5),\n",
    "    ]\n",
    ")\n",
    "\n",
    "train_dataset = torchvision.datasets.MNIST(\"./data\", train=True, download=True,transform=data_transform)\n",
    "# test_dataset = torchvision.datasets.MNIST(\"./data\", train=False,download=True,transform=data_transform)\n",
    "# min_test = torch.utils.data.Subset(test_dataset, torch.arange(1000))\n",
    "train_dataloader = torch.utils.data.DataLoader(\n",
    "    train_dataset,\n",
    "    batch_size= batch_size,\n",
    "    num_workers=2,\n",
    "    shuffle=True,\n",
    "    drop_last=True,\n",
    ")\n",
    "\n",
    "# train_data = enumerate(train_dataloader)\n",
    "# a = next(train_data)\n",
    "# a[1][0].shape\n",
    "# enumerate = tuple(0,data) tuple(1,data) tuple(number,data)\n",
    "# iter = list[data]\n",
    "# data = list[data,label]\n",
    "train_data = iter(train_dataloader)\n",
    "# a = next(train_data)\n",
    "# a[0].shape"
   ],
   "metadata": {
    "collapsed": false,
    "pycharm": {
     "name": "#%%\n"
    }
   }
  },
  {
   "cell_type": "code",
   "execution_count": 5,
   "outputs": [
    {
     "data": {
      "text/plain": "(torch.Size([1, 1, 28, 28]), torch.Size([1, 100]))"
     },
     "execution_count": 5,
     "metadata": {},
     "output_type": "execute_result"
    }
   ],
   "source": [
    "# Prepare noisy Data\n",
    "# get fist batch to train\n",
    "real_images, label = next(train_data)\n",
    "noisy = Variable(Tensor(np.random.normal(0, 1, (real_images.shape[0], latent_dim))))\n",
    "# we can't create noisy at first, because the last batch may be smaller than batch_size\n",
    "real_images.shape, noisy.shape"
   ],
   "metadata": {
    "collapsed": false,
    "pycharm": {
     "name": "#%%\n"
    }
   }
  },
  {
   "cell_type": "code",
   "execution_count": 6,
   "outputs": [
    {
     "data": {
      "text/plain": "Discriminator(\n  (model): Sequential(\n    (0): Conv2d(1, 16, kernel_size=(3, 3), stride=(2, 2), padding=(1, 1))\n    (1): LeakyReLU(negative_slope=0.2, inplace=True)\n    (2): Dropout2d(p=0.25, inplace=False)\n    (3): Conv2d(16, 32, kernel_size=(3, 3), stride=(2, 2), padding=(1, 1))\n    (4): LeakyReLU(negative_slope=0.2, inplace=True)\n    (5): Dropout2d(p=0.25, inplace=False)\n    (6): BatchNorm2d(32, eps=0.8, momentum=0.1, affine=True, track_running_stats=True)\n    (7): Conv2d(32, 64, kernel_size=(3, 3), stride=(2, 2), padding=(1, 1))\n    (8): LeakyReLU(negative_slope=0.2, inplace=True)\n    (9): Dropout2d(p=0.25, inplace=False)\n    (10): BatchNorm2d(64, eps=0.8, momentum=0.1, affine=True, track_running_stats=True)\n    (11): Conv2d(64, 128, kernel_size=(3, 3), stride=(2, 2), padding=(1, 1))\n    (12): LeakyReLU(negative_slope=0.2, inplace=True)\n    (13): Dropout2d(p=0.25, inplace=False)\n    (14): BatchNorm2d(128, eps=0.8, momentum=0.1, affine=True, track_running_stats=True)\n  )\n  (adv_layer): Sequential(\n    (0): Linear(in_features=512, out_features=1, bias=True)\n    (1): Sigmoid()\n  )\n)"
     },
     "execution_count": 6,
     "metadata": {},
     "output_type": "execute_result"
    }
   ],
   "source": [
    "PATH_G = \"./pre-train/checkpoint389G\"\n",
    "PATH_D = \"./pre-train/checkpoint389D\"\n",
    "checkpoint_G = torch.load(PATH_G)\n",
    "checkpoint_D = torch.load(PATH_D)\n",
    "model_G = Generator(image_size, latent_dim, image_channel)\n",
    "model_D = Discriminator(image_channel)\n",
    "model_G.load_state_dict(checkpoint_G['model_state_dict']) # print every layer name\n",
    "model_D.load_state_dict(checkpoint_D['model_state_dict'])\n",
    "model_G.eval()\n",
    "model_D.eval()"
   ],
   "metadata": {
    "collapsed": false,
    "pycharm": {
     "name": "#%%\n"
    }
   }
  },
  {
   "cell_type": "code",
   "execution_count": 7,
   "outputs": [],
   "source": [
    "# Function using to calculate Lapula matrix\n",
    "def Lapula(feature, number, nor=False):\n",
    "    \"\"\"\n",
    "    Calculate lapula metrix\n",
    "    :param feature: input the feature\n",
    "    :param number:  the number of feature\n",
    "    :param nor:  default is False, if true Lapula matrix will be normalize\n",
    "    :return:  lapura or sys lapula\n",
    "    \"\"\"\n",
    "    # 1. Calcute the Similarity matrix and Degree matrix\n",
    "    similarity_martix = np.empty((number,number),dtype=float)\n",
    "    d_matrix = np.zeros((number,number))\n",
    "    for i in range(feature.shape[0]):\n",
    "        x1 = feature[i]\n",
    "        for r  in range(i,feature.shape[0]):\n",
    "            if i == r:\n",
    "                similarity_martix[i][r] = 0\n",
    "            else:\n",
    "                x2 = feature[r]\n",
    "                weight = torch.nn.functional.cosine_similarity(x1,x2,0).detach().numpy()\n",
    "                # print(weight)\n",
    "                if weight >= 0.7:\n",
    "                    d_matrix[i][i] += 1\n",
    "                    similarity_martix[i][r]= 1-weight\n",
    "                    similarity_martix[r][i]= 1-weight\n",
    "                else:\n",
    "                    similarity_martix[i][r]= 0\n",
    "                    similarity_martix[r][i]= 0\n",
    "    lapula = d_matrix - similarity_martix\n",
    "    if nor==True:\n",
    "         t = np.sum(d_matrix, axis= 1)\n",
    "         V = np.diag(t**(-0.5))\n",
    "         where_are_inf = np.isinf(V)\n",
    "         V[where_are_inf] = 0\n",
    "         lapula = V@lapula@V\n",
    "\n",
    "    return lapula"
   ],
   "metadata": {
    "collapsed": false,
    "pycharm": {
     "name": "#%%\n"
    }
   }
  },
  {
   "cell_type": "code",
   "execution_count": 8,
   "outputs": [
    {
     "data": {
      "text/plain": "(torch.Size([1, 1, 28, 28]), torch.Size([1]))"
     },
     "execution_count": 8,
     "metadata": {},
     "output_type": "execute_result"
    }
   ],
   "source": [
    "data = next(train_data)\n",
    "data[0].shape, data[1].shape"
   ],
   "metadata": {
    "collapsed": false,
    "pycharm": {
     "name": "#%%\n"
    }
   }
  },
  {
   "cell_type": "code",
   "execution_count": 9,
   "outputs": [
    {
     "data": {
      "text/plain": "(['',\n  'l1',\n  'l1.0',\n  'conv_blocks',\n  'conv_blocks.0',\n  'conv_blocks.1',\n  'conv_blocks.2',\n  'conv_blocks.3',\n  'conv_blocks.4',\n  'conv_blocks.5',\n  'conv_blocks.6',\n  'conv_blocks.7',\n  'conv_blocks.8',\n  'conv_blocks.9',\n  'conv_blocks.10'],\n ['',\n  'model',\n  'model.0',\n  'model.1',\n  'model.2',\n  'model.3',\n  'model.4',\n  'model.5',\n  'model.6',\n  'model.7',\n  'model.8',\n  'model.9',\n  'model.10',\n  'model.11',\n  'model.12',\n  'model.13',\n  'model.14',\n  'adv_layer',\n  'adv_layer.0',\n  'adv_layer.1'])"
     },
     "execution_count": 9,
     "metadata": {},
     "output_type": "execute_result"
    }
   ],
   "source": [
    "# show layer name in model\n",
    "G_name_list = tx.list_module_names(model_G)\n",
    "D_name_list = tx.list_module_names(model_D)\n",
    "G_name_list,D_name_list"
   ],
   "metadata": {
    "collapsed": false,
    "pycharm": {
     "name": "#%%\n"
    }
   }
  },
  {
   "cell_type": "code",
   "execution_count": 10,
   "outputs": [
    {
     "data": {
      "text/plain": "(Extractor(\n   (model): Discriminator(\n     (model): Sequential(\n       (0): Conv2d(1, 16, kernel_size=(3, 3), stride=(2, 2), padding=(1, 1))\n       (1): LeakyReLU(negative_slope=0.2, inplace=True)\n       (2): Dropout2d(p=0.25, inplace=False)\n       (3): Conv2d(16, 32, kernel_size=(3, 3), stride=(2, 2), padding=(1, 1))\n       (4): LeakyReLU(negative_slope=0.2, inplace=True)\n       (5): Dropout2d(p=0.25, inplace=False)\n       (6): BatchNorm2d(32, eps=0.8, momentum=0.1, affine=True, track_running_stats=True)\n       (7): Conv2d(32, 64, kernel_size=(3, 3), stride=(2, 2), padding=(1, 1))\n       (8): LeakyReLU(negative_slope=0.2, inplace=True)\n       (9): Dropout2d(p=0.25, inplace=False)\n       (10): BatchNorm2d(64, eps=0.8, momentum=0.1, affine=True, track_running_stats=True)\n       (11): Conv2d(64, 128, kernel_size=(3, 3), stride=(2, 2), padding=(1, 1))\n       (12): LeakyReLU(negative_slope=0.2, inplace=True)\n       (13): Dropout2d(p=0.25, inplace=False)\n       (14): BatchNorm2d(128, eps=0.8, momentum=0.1, affine=True, track_running_stats=True)\n     )\n     (adv_layer): Sequential(\n       (0): Linear(in_features=512, out_features=1, bias=True)\n       (1): Sigmoid()\n     )\n   )\n ),\n Extractor(\n   (model): Generator(\n     (l1): Sequential(\n       (0): Linear(in_features=100, out_features=6272, bias=True)\n     )\n     (conv_blocks): Sequential(\n       (0): BatchNorm2d(128, eps=1e-05, momentum=0.1, affine=True, track_running_stats=True)\n       (1): Upsample(scale_factor=2.0, mode=nearest)\n       (2): Conv2d(128, 128, kernel_size=(3, 3), stride=(1, 1), padding=(1, 1))\n       (3): BatchNorm2d(128, eps=0.8, momentum=0.1, affine=True, track_running_stats=True)\n       (4): LeakyReLU(negative_slope=0.2, inplace=True)\n       (5): Upsample(scale_factor=2.0, mode=nearest)\n       (6): Conv2d(128, 64, kernel_size=(3, 3), stride=(1, 1), padding=(1, 1))\n       (7): BatchNorm2d(64, eps=0.8, momentum=0.1, affine=True, track_running_stats=True)\n       (8): LeakyReLU(negative_slope=0.2, inplace=True)\n       (9): Conv2d(64, 1, kernel_size=(3, 3), stride=(1, 1), padding=(1, 1))\n       (10): Tanh()\n     )\n   )\n ))"
     },
     "execution_count": 10,
     "metadata": {},
     "output_type": "execute_result"
    }
   ],
   "source": [
    "# Specify the intermediate layer to be extracted\n",
    "layer_G = tx.Extractor(model_G, [\"conv_blocks.7\"])\n",
    "layer_D = tx.Extractor(model_D, [\"model.11\"])\n",
    "layer_D,layer_G"
   ],
   "metadata": {
    "collapsed": false,
    "pycharm": {
     "name": "#%%\n"
    }
   }
  },
  {
   "cell_type": "code",
   "execution_count": 12,
   "outputs": [
    {
     "data": {
      "text/plain": "(torch.Size([1, 64, 28, 28]),\n torch.Size([1, 128, 2, 2]),\n torch.Size([1, 128, 2, 2]))"
     },
     "execution_count": 12,
     "metadata": {},
     "output_type": "execute_result"
    }
   ],
   "source": [
    "# extract model layer and get final result\n",
    "# get feature map in the model\n",
    "gen_img, p = layer_G(noisy)\n",
    "lable_real, q = layer_D(real_images,)\n",
    "label_fake, r = layer_D(gen_img)\n",
    "x = real_images\n",
    "y = gen_img\n",
    "fp_G = p[\"conv_blocks.7\"] # feature map in generator 100 should be a parameter(100,64,28,28)\n",
    "fp_RD = q[\"model.11\"]   # real image feature map in discriminator(100,128,2,2)\n",
    "fp_FD = r[\"model.11\"]    # fake image feature map in discriminator\n",
    "# gen_img.shape, label_fake.shape, lable_real.shape\n",
    "fp_G.shape, fp_FD.shape, fp_RD.shape"
   ],
   "metadata": {
    "collapsed": false,
    "pycharm": {
     "name": "#%%\n"
    }
   }
  },
  {
   "cell_type": "code",
   "execution_count": 13,
   "outputs": [
    {
     "data": {
      "text/plain": "(torch.Size([64, 28, 28]),\n tensor([[[-1.6757e-01, -2.6968e-01, -2.8639e-01,  ...,  7.6241e-02,\n           -3.6375e-03, -2.5866e-02],\n          [-2.3171e-01, -4.1249e-01, -4.3229e-01,  ..., -2.8481e-02,\n           -3.1821e-02, -4.9118e-02],\n          [-2.2202e-01, -4.0628e-01, -4.3616e-01,  ..., -6.5896e-02,\n           -4.2136e-02, -3.4439e-02],\n          ...,\n          [-1.2701e-01, -1.8337e-01, -1.8966e-01,  ..., -2.2063e-01,\n           -2.6275e-01, -2.1833e-01],\n          [-1.4303e-01, -2.1813e-01, -2.1944e-01,  ..., -2.3136e-01,\n           -2.6705e-01, -2.2396e-01],\n          [-1.1915e-01, -1.8782e-01, -1.9135e-01,  ..., -1.5481e-01,\n           -2.0832e-01, -2.0423e-01]],\n \n         [[-1.8926e-01, -2.5923e-01, -2.5768e-01,  ..., -1.2067e-01,\n           -7.2340e-02, -4.9712e-02],\n          [-2.6449e-01, -1.4359e-01, -1.0306e-01,  ..., -1.7556e-01,\n           -1.9769e-01, -1.1215e-01],\n          [-2.5636e-01, -1.4752e-01, -1.0246e-01,  ..., -9.1836e-02,\n           -1.6944e-01, -8.5181e-02],\n          ...,\n          [-4.9262e-02, -3.0025e-02, -2.1872e-02,  ..., -1.5652e-01,\n           -1.8043e-01, -1.8329e-02],\n          [-6.2427e-02, -4.1125e-02, -1.5824e-02,  ..., -2.1685e-01,\n           -1.6250e-01,  2.4552e-01],\n          [-2.8480e-02,  2.4025e-01,  2.5776e-01,  ..., -7.4696e-02,\n           -1.1964e-02,  3.9963e-01]],\n \n         [[-1.4274e-01, -1.4442e-01, -1.4157e-01,  ..., -4.3066e-02,\n           -6.7549e-02,  1.4104e-02],\n          [-1.4055e-01, -9.6575e-02, -4.3242e-02,  ..., -2.2130e-02,\n           -7.0699e-02, -8.8189e-03],\n          [-1.4505e-01, -1.2227e-01, -5.3055e-02,  ..., -3.6028e-03,\n           -5.5023e-02,  3.6975e-02],\n          ...,\n          [-3.9578e-02, -3.3215e-04,  1.4595e-01,  ..., -6.8728e-02,\n           -9.7442e-02,  8.7922e-01],\n          [-4.3682e-02,  1.0379e-01,  2.1057e-01,  ..., -5.5626e-02,\n           -5.6925e-02,  9.4681e-01],\n          [ 1.8878e-01,  4.6153e-01,  4.6993e-01,  ...,  2.1612e-01,\n            3.9627e-01,  9.7142e-01]],\n \n         ...,\n \n         [[-2.2610e-01, -1.3373e-01, -8.7683e-02,  ..., -8.0321e-02,\n           -7.1232e-02,  1.0438e-01],\n          [-1.2900e-01,  3.3935e-01,  3.9756e-01,  ..., -2.0341e-03,\n           -4.6043e-02,  3.5357e-01],\n          [-8.8564e-02,  2.8839e-01,  1.5671e-01,  ...,  1.4457e-01,\n           -2.3601e-02,  4.0372e-01],\n          ...,\n          [-5.5234e-02,  1.0996e-01,  2.8854e-01,  ..., -1.0276e-01,\n           -1.1420e-01,  8.2635e-01],\n          [-4.1854e-02,  2.3170e-01,  2.7111e-01,  ..., -5.5079e-02,\n           -3.3649e-02,  9.4553e-01],\n          [ 1.3641e-01,  4.8863e-01,  5.3178e-01,  ...,  1.8517e-01,\n            5.3106e-01,  9.8714e-01]],\n \n         [[ 9.8920e-01,  9.8078e-01,  8.7770e-01,  ...,  2.7450e-01,\n            2.7415e-01,  4.8217e-01],\n          [ 1.2884e+00,  1.7891e+00,  1.6220e+00,  ...,  5.9508e-01,\n            5.4803e-01,  5.4324e-01],\n          [ 1.1839e+00,  1.8269e+00,  1.6914e+00,  ...,  5.8452e-01,\n            5.8621e-01,  5.2234e-01],\n          ...,\n          [ 8.6327e-01,  9.9918e-01,  9.3197e-01,  ...,  1.6553e+00,\n            1.5227e+00,  8.7049e-01],\n          [ 8.7980e-01,  1.0643e+00,  9.7784e-01,  ...,  1.6172e+00,\n            1.3913e+00,  8.2057e-01],\n          [ 6.9680e-01,  9.0909e-01,  8.9595e-01,  ...,  1.2813e+00,\n            1.2711e+00,  8.7737e-01]],\n \n         [[ 2.8333e-01,  8.1250e-01,  9.0883e-01,  ..., -1.1484e-01,\n           -9.4766e-02,  3.0895e-01],\n          [ 9.9821e-01,  1.5418e+00,  1.4685e+00,  ..., -7.9671e-02,\n           -4.5353e-02,  4.2190e-01],\n          [ 1.1092e+00,  1.4055e+00,  1.3168e+00,  ..., -1.6238e-02,\n            1.7335e-01,  6.0424e-01],\n          ...,\n          [ 2.8383e-01,  7.0677e-01,  4.8811e-01,  ...,  2.2761e-01,\n            1.4620e-01,  1.0486e+00],\n          [ 2.8258e-01,  6.0319e-01,  3.5327e-01,  ..., -7.0907e-03,\n            6.8573e-02,  1.0170e+00],\n          [ 6.6853e-01,  9.1811e-01,  8.8250e-01,  ...,  5.6356e-01,\n            5.2873e-01,  7.0294e-01]]], grad_fn=<SqueezeBackward0>))"
     },
     "execution_count": 13,
     "metadata": {},
     "output_type": "execute_result"
    }
   ],
   "source": [
    "feature_map = fp_G.squeeze()\n",
    "feature_map.shape, feature_map"
   ],
   "metadata": {
    "collapsed": false,
    "pycharm": {
     "name": "#%%\n"
    }
   }
  },
  {
   "cell_type": "code",
   "execution_count": 18,
   "outputs": [
    {
     "data": {
      "text/plain": "(torch.Size([28, 28]),\n tensor([[ 2.8333e-01,  8.1250e-01,  9.0883e-01,  1.4168e+00,  1.4297e+00,\n           1.2548e+00,  9.8250e-01,  1.7240e-01,  1.0716e-01,  4.4453e-01,\n           4.9960e-01,  6.0179e-01,  6.5173e-01,  4.9452e-01,  2.8567e-01,\n           1.2115e-01,  7.9470e-02, -7.2159e-02, -7.5287e-02, -6.6529e-02,\n          -7.3154e-02, -8.6816e-02, -8.5931e-02, -1.6862e-01, -1.6571e-01,\n          -1.1484e-01, -9.4766e-02,  3.0895e-01],\n         [ 9.9821e-01,  1.5418e+00,  1.4685e+00,  1.4794e+00,  1.4332e+00,\n           1.0873e+00,  8.8819e-01,  3.8775e-01,  4.9057e-01,  8.4713e-01,\n           1.0655e+00,  8.8963e-01,  9.7756e-01,  4.9739e-01,  2.7889e-01,\n           4.8694e-02, -2.4122e-02, -5.5604e-02, -7.4157e-02, -2.1706e-03,\n           1.7221e-02,  3.1869e-01, -1.2643e-02, -5.8598e-02, -6.6259e-02,\n          -7.9671e-02, -4.5353e-02,  4.2190e-01],\n         [ 1.1092e+00,  1.4055e+00,  1.3168e+00,  1.2028e+00,  1.1699e+00,\n           1.0152e+00,  9.0011e-01,  6.2608e-01,  6.8318e-01,  7.6075e-01,\n           8.1219e-01,  4.0604e-01,  2.5619e-01, -9.0875e-02, -1.6057e-01,\n          -1.9172e-01, -2.2519e-01, -1.8085e-01, -1.4615e-01, -4.7150e-02,\n           6.9326e-02,  5.7378e-01,  2.7585e-01, -1.1600e-03, -1.8216e-02,\n          -1.6238e-02,  1.7335e-01,  6.0424e-01],\n         [ 8.0305e-01,  8.9889e-01,  1.0065e+00,  1.0197e+00,  1.1002e+00,\n           1.3278e+00,  1.2055e+00,  1.3302e+00,  1.6759e+00,  1.3767e+00,\n           1.1699e+00,  1.5583e-01, -7.5755e-02, -2.6854e-01, -3.8619e-01,\n          -4.3082e-01, -4.2684e-01, -3.1463e-01, -2.6573e-01, -4.3710e-02,\n           1.6428e-01,  9.7820e-01,  1.0220e+00,  4.6106e-01,  4.4406e-01,\n           3.5336e-02, -1.0604e-02,  2.7423e-01],\n         [ 4.8376e-01,  5.5250e-01,  7.8921e-01,  8.5015e-01,  9.5941e-01,\n           1.2999e+00,  1.2600e+00,  1.4388e+00,  1.8179e+00,  1.3494e+00,\n           9.3167e-01, -3.9854e-02, -1.8631e-01, -3.5974e-01, -4.5352e-01,\n          -5.3754e-01, -4.9929e-01, -3.6143e-01, -2.7343e-01,  9.4222e-03,\n           3.5275e-01,  1.0788e+00,  9.1402e-01,  3.8135e-01,  3.6799e-01,\n          -2.4687e-02, -2.3666e-02,  9.9683e-02],\n         [ 2.2247e-01,  2.4844e-01,  5.0745e-01,  4.5114e-01,  3.9461e-01,\n           6.1441e-01,  7.3057e-01,  1.2271e+00,  1.6171e+00,  1.0553e+00,\n           3.3016e-01, -1.7190e-01, -3.2658e-01, -4.6702e-01, -5.4778e-01,\n          -5.8452e-01, -5.4996e-01, -3.5851e-01, -2.5628e-01, -3.5410e-03,\n           3.0564e-01,  5.6143e-01,  3.6986e-01,  1.8083e-02,  5.2298e-02,\n          -2.0283e-02,  2.4170e-01,  1.7755e-01],\n         [ 1.9183e-01,  1.5450e-01,  3.1813e-01,  3.0443e-01,  3.0489e-01,\n           4.8938e-01,  6.4228e-01,  1.2502e+00,  1.4637e+00,  1.0457e+00,\n           3.2718e-01, -1.6023e-01, -2.6626e-01, -3.6917e-01, -3.8135e-01,\n          -4.1115e-01, -3.5931e-01, -1.4433e-01, -1.1290e-01,  3.0331e-01,\n           4.6197e-01,  3.8710e-01,  8.9686e-02, -3.4439e-02, -3.4241e-02,\n          -1.0284e-01, -4.2773e-02, -1.8381e-02],\n         [ 3.7773e-01,  3.5882e-01,  3.9478e-01,  2.8493e-01,  3.7693e-01,\n           7.7522e-02,  3.2719e-01,  6.1992e-01,  6.2731e-01,  4.3477e-01,\n          -2.6342e-02, -1.8371e-01, -2.4004e-01, -2.4347e-01, -2.6340e-01,\n          -2.3133e-01, -1.8118e-01,  1.6632e-01,  4.1308e-02, -6.8695e-04,\n          -2.9337e-02, -2.5635e-02, -5.5009e-02, -5.1688e-02, -6.0932e-02,\n          -1.4365e-01, -6.6581e-02, -6.6698e-02],\n         [ 9.8304e-02, -9.1069e-03,  6.7256e-02,  2.9292e-03,  1.1208e-01,\n          -3.3340e-02,  7.8946e-02,  3.7839e-01,  1.7153e-01, -1.7978e-02,\n          -1.1645e-01, -2.6852e-01, -2.7339e-01, -2.1340e-01, -2.1236e-01,\n          -1.0844e-01, -4.7611e-02,  7.7021e-01,  5.2512e-01,  1.8367e-01,\n          -1.2971e-02, -4.7504e-02, -6.9374e-02, -8.1141e-02, -9.6422e-02,\n          -1.8534e-01, -1.2267e-01, -7.7830e-02],\n         [-3.0351e-03, -6.8639e-02, -3.9069e-02, -3.7398e-02,  4.4261e-02,\n           4.8184e-01,  7.4443e-01,  6.6819e-01,  1.8693e-01, -7.1262e-02,\n          -1.7162e-01, -3.2446e-01, -3.0925e-01, -2.4515e-01, -2.1837e-01,\n          -2.7321e-02,  3.4932e-02,  8.1474e-01,  6.1880e-01, -1.0362e-03,\n          -2.7621e-02, -5.6864e-02, -8.8740e-02, -1.5984e-01, -1.6470e-01,\n          -2.1546e-01, -1.6077e-01, -3.0560e-02],\n         [ 8.3999e-02, -9.0356e-02, -7.9397e-02, -5.5285e-02, -7.1242e-03,\n           2.1871e-01,  1.0045e-01, -5.1631e-02, -1.4372e-01, -2.3212e-01,\n          -2.5960e-01, -4.0867e-01, -3.3405e-01, -2.4076e-01, -2.2999e-01,\n           1.1090e-01,  2.5991e-02,  5.5172e-01,  3.2500e-01, -5.9407e-02,\n          -6.2198e-02, -7.7913e-02, -9.4526e-02, -1.9414e-01, -1.7949e-01,\n          -1.4555e-01, -1.0100e-01,  1.4445e-01],\n         [-7.7722e-03, -1.3341e-01, -1.2758e-01, -2.5928e-02, -6.3635e-03,\n           1.9612e-01,  8.7502e-02, -6.3848e-02, -1.5888e-01, -3.0422e-01,\n          -4.0507e-01, -5.7151e-01, -4.7560e-01, -2.5316e-01, -2.1222e-01,\n           3.1064e-01,  3.1730e-01,  5.4365e-01,  7.2005e-01, -3.1437e-02,\n          -1.0049e-02, -2.9804e-02, -6.8156e-02, -9.4788e-02, -1.1362e-01,\n          -4.5803e-03,  4.5463e-01,  1.0081e+00],\n         [ 1.6348e-01, -5.0065e-02, -5.6367e-02,  1.6377e-01,  1.1600e-01,\n           1.9494e-01, -7.1051e-03, -1.5564e-01, -2.4831e-01, -4.0425e-01,\n          -4.5079e-01, -5.4452e-01, -4.4874e-01, -2.0175e-01, -1.6742e-01,\n           3.9062e-01,  2.9765e-01,  5.5028e-01,  7.8047e-01, -4.2443e-02,\n          -4.2978e-02, -6.7929e-02, -8.2492e-02, -7.1876e-02, -7.5170e-02,\n           3.5207e-01,  7.5781e-01,  1.1319e+00],\n         [ 1.2990e-01,  9.3353e-02,  6.0951e-02,  5.7804e-01,  5.5411e-01,\n           2.0936e-01, -6.8062e-02, -3.1419e-01, -4.1218e-01, -5.8992e-01,\n          -5.4550e-01, -4.3011e-01, -2.9776e-01, -4.9238e-02, -5.3927e-02,\n           8.9089e-01,  9.8742e-01,  8.7909e-01,  1.0192e+00,  1.6892e-01,\n           2.0376e-01, -1.4677e-02, -3.3228e-02, -5.9735e-02, -8.3561e-02,\n           1.6055e-01,  6.0222e-02,  3.8344e-01],\n         [ 2.4563e-02,  1.9342e-01,  3.2088e-02,  3.7079e-01,  3.9837e-01,\n          -1.5421e-02, -1.0563e-01, -3.7470e-01, -4.4585e-01, -6.4382e-01,\n          -5.5429e-01, -3.3774e-01, -2.4533e-01,  3.3669e-01,  2.9424e-01,\n           1.4369e+00,  1.6211e+00,  8.3633e-01,  6.0582e-01, -4.6936e-02,\n          -2.9450e-02, -5.5845e-02, -7.0793e-02, -7.9248e-02, -7.4568e-02,\n           2.3314e-01,  1.3841e-01,  4.5296e-01],\n         [-9.0441e-02, -3.9920e-02, -7.1175e-02, -2.7636e-02,  1.4613e-01,\n          -7.1011e-02, -2.1607e-01, -4.8766e-01, -5.5456e-01, -7.0689e-01,\n          -5.7260e-01, -3.0495e-01, -2.7080e-01, -1.4190e-02,  1.1754e-01,\n           7.9499e-01,  8.2036e-01, -6.0386e-02, -7.5256e-02, -1.6582e-01,\n          -1.4375e-01, -1.2629e-01, -9.8146e-02,  1.2546e-01,  2.0419e-01,\n           5.6799e-01,  1.4203e-01,  2.1862e-01],\n         [-1.0779e-01, -6.9008e-02, -9.5921e-02, -6.3572e-02,  1.6677e-02,\n          -9.8955e-02, -2.1514e-01, -4.4309e-01, -4.8099e-01, -5.6443e-01,\n          -4.3328e-01, -1.8517e-01, -1.7301e-01,  4.3656e-01,  3.6193e-01,\n           5.4470e-01,  2.6252e-01, -1.8832e-01, -1.5620e-01, -2.7124e-01,\n          -2.4814e-01, -1.9351e-01, -1.3289e-01,  2.4552e-01,  2.0706e-01,\n           4.2535e-01,  1.0164e-01,  1.3717e-01],\n         [-7.2716e-02, -5.6664e-02, -1.1895e-01, -1.3284e-01, -1.0545e-01,\n          -2.4188e-01, -3.0158e-01, -4.2943e-01, -4.3151e-01, -5.5040e-01,\n          -5.6828e-01, -4.2794e-01, -3.9956e-01, -2.1498e-03,  5.8378e-01,\n           4.6191e-01,  2.2843e-01, -3.4793e-01, -3.9418e-01, -5.7775e-01,\n          -5.7006e-01, -3.6477e-01, -2.5461e-01,  2.9181e-01,  2.9086e-01,\n           7.5867e-01,  6.2760e-01,  5.4220e-01],\n         [-3.4167e-02, -9.3400e-03, -6.6705e-02, -1.0519e-01, -8.7099e-02,\n          -2.0480e-01, -2.4024e-01, -3.0815e-01, -2.8949e-01, -4.1596e-01,\n          -5.0801e-01, -3.7439e-01, -3.5106e-01, -8.6472e-02, -2.7502e-02,\n          -1.1484e-01, -1.6004e-01, -5.2924e-01, -5.5771e-01, -6.6829e-01,\n          -5.9620e-01, -3.0121e-01, -1.5869e-01,  7.2785e-01,  6.7059e-01,\n           8.6172e-01,  6.2569e-01,  3.7349e-01],\n         [-1.8053e-02,  6.2662e-03, -5.8886e-02, -9.3198e-02, -1.0173e-01,\n          -1.5915e-01, -1.7146e-01, -1.4516e-01, -1.0339e-01, -1.5876e-01,\n          -1.8634e-01, -8.2266e-02, -6.8307e-02, -4.4589e-02, -4.7284e-02,\n          -3.5640e-01, -3.9581e-01, -5.4750e-01, -5.4913e-01, -4.4302e-01,\n          -3.4583e-01, -5.4213e-02,  1.6901e-02,  7.0449e-01,  6.2851e-01,\n           6.3232e-01,  5.1801e-01,  2.1972e-01],\n         [-2.3018e-02,  3.0451e-01,  1.4489e-01, -5.8352e-03, -2.7539e-02,\n          -8.8639e-02, -1.1143e-01, -9.6998e-02, -8.4647e-02, -1.7381e-01,\n          -2.4395e-01, -1.9879e-01, -2.3692e-01, -3.1752e-01, -2.8614e-01,\n          -5.7728e-01, -5.5984e-01, -5.7115e-01, -5.0938e-01, -2.9814e-01,\n          -1.8498e-01,  4.8609e-01,  4.5819e-01,  7.5078e-01,  5.8457e-01,\n           3.8553e-01,  3.8116e-01,  1.4118e-01],\n         [ 7.1241e-02,  7.7922e-01,  7.8889e-01,  5.2875e-01,  3.6407e-01,\n          -2.1243e-02, -5.3863e-02, -7.8886e-02, -5.4060e-02,  1.9166e-01,\n           5.0006e-01,  8.0267e-01,  4.9803e-01, -1.9077e-01, -2.7200e-01,\n          -5.3866e-01, -5.0950e-01, -3.7056e-01, -2.8201e-01, -1.2901e-03,\n           3.4917e-01,  1.5999e+00,  1.5303e+00,  1.2116e+00,  1.1900e+00,\n           7.3847e-01,  7.0236e-01,  3.9286e-01],\n         [ 2.7566e-01,  9.7551e-01,  1.0602e+00,  9.3604e-01,  7.1528e-01,\n           2.9131e-01, -1.6825e-03, -2.9715e-02,  6.6389e-02,  5.4787e-01,\n           7.2097e-01,  8.8479e-01,  6.6986e-01, -1.7006e-01, -2.0661e-01,\n          -4.3850e-01, -4.0141e-01, -2.2494e-01, -1.2203e-01,  6.8317e-01,\n           7.8108e-01,  1.6030e+00,  1.1996e+00,  7.1885e-01,  8.4308e-01,\n           6.0147e-01,  6.3571e-01,  6.2268e-01],\n         [ 3.2839e-01,  8.7321e-01,  7.9972e-01,  5.8911e-01,  7.3670e-01,\n           6.5529e-01,  2.7130e-01,  2.6764e-01,  3.1026e-01,  1.8671e-01,\n           2.2121e-01,  3.5050e-01,  1.7821e-01, -7.1042e-02, -3.3179e-02,\n          -9.4060e-02, -9.0974e-02,  9.2152e-02,  3.6396e-01,  9.4347e-01,\n           9.9350e-01,  1.1101e+00,  5.2391e-01, -9.0455e-02, -2.9830e-02,\n          -5.8388e-02, -1.3672e-02,  8.6199e-01],\n         [ 3.9120e-01,  8.4215e-01,  6.3621e-01,  4.1848e-01,  5.7176e-01,\n           5.8530e-01,  3.0560e-01,  4.7423e-01,  4.5643e-01,  3.2974e-01,\n           6.2760e-01,  7.6828e-01,  7.5518e-01,  3.6294e-01,  3.8729e-01,\n           7.6884e-02,  7.6846e-02,  5.4413e-01,  6.3961e-01,  8.9969e-01,\n           8.1842e-01,  7.7488e-01,  3.8694e-01, -9.1891e-02, -3.7789e-02,\n          -5.7508e-02, -2.9377e-02,  9.5315e-01],\n         [ 2.8383e-01,  7.0677e-01,  4.8811e-01,  2.5600e-01,  3.5255e-01,\n           6.4556e-01,  4.3735e-01,  6.2112e-01,  4.2945e-01,  1.9804e-01,\n           4.1267e-01,  3.7064e-01,  3.7338e-01,  2.0150e-01,  2.2109e-01,\n           4.1043e-01,  2.3410e-01,  4.7816e-01,  6.6557e-01,  5.1156e-01,\n           5.2752e-01,  4.6458e-01,  4.5609e-01,  8.5228e-02,  3.2377e-01,\n           2.2761e-01,  1.4620e-01,  1.0486e+00],\n         [ 2.8258e-01,  6.0319e-01,  3.5327e-01,  3.4085e-02,  1.6816e-01,\n           5.2800e-01,  4.3026e-01,  6.9926e-01,  5.5451e-01,  4.0237e-01,\n           5.9811e-01,  4.9389e-01,  5.6319e-01,  5.7435e-01,  6.7394e-01,\n           1.0116e+00,  7.9068e-01,  8.9350e-01,  8.8252e-01,  6.6076e-01,\n           5.9347e-01,  5.5183e-01,  4.7474e-01, -4.5234e-04,  1.2321e-01,\n          -7.0907e-03,  6.8573e-02,  1.0170e+00],\n         [ 6.6853e-01,  9.1811e-01,  8.8250e-01,  6.0457e-01,  5.0258e-01,\n           5.0913e-01,  2.6895e-01,  4.1779e-01,  4.0113e-01,  2.9531e-01,\n           3.6962e-01,  3.2192e-01,  4.0321e-01,  3.9991e-01,  4.6040e-01,\n           5.3760e-01,  5.2598e-01,  5.8415e-01,  5.2654e-01,  6.1646e-01,\n           7.2134e-01,  9.9704e-01,  1.0957e+00,  8.3496e-01,  6.9717e-01,\n           5.6356e-01,  5.2873e-01,  7.0294e-01]], grad_fn=<SliceBackward0>))"
     },
     "execution_count": 18,
     "metadata": {},
     "output_type": "execute_result"
    }
   ],
   "source": [
    "pixel_matrix = np.empty((28*28,64),dtype=float)\n",
    "img = feature_map[63,:,:]\n",
    "img.shape, img"
   ],
   "metadata": {
    "collapsed": false,
    "pycharm": {
     "name": "#%%\n"
    }
   }
  },
  {
   "cell_type": "code",
   "execution_count": 19,
   "outputs": [],
   "source": [
    "for i in range(feature_map.shape[0]):\n",
    "    for t in range(28):\n",
    "        for v in range(28):\n",
    "            pixel_matrix[t+v,i] = feature_map[i,t,v]"
   ],
   "metadata": {
    "collapsed": false,
    "pycharm": {
     "name": "#%%\n"
    }
   }
  },
  {
   "cell_type": "code",
   "execution_count": 20,
   "outputs": [
    {
     "data": {
      "text/plain": "((784, 64),\n array([[-0.16756688, -0.18925834, -0.14274478, ..., -0.22610335,\n          0.98919559,  0.28332955],\n        [-0.23170738, -0.26449314, -0.14055412, ..., -0.12899809,\n          1.28841388,  0.99820971],\n        [-0.22202329, -0.25635591, -0.14504825, ..., -0.08856355,\n          1.18389738,  1.10919857],\n        ...,\n        [ 0.        ,  0.        ,  0.        , ...,  0.        ,\n          0.        ,  0.        ],\n        [ 0.        ,  0.        ,  0.        , ...,  0.        ,\n          0.        ,  0.        ],\n        [ 0.        ,  0.        ,  0.        , ...,  0.        ,\n          0.        ,  0.        ]]))"
     },
     "execution_count": 20,
     "metadata": {},
     "output_type": "execute_result"
    }
   ],
   "source": [
    "pixel_matrix.shape, pixel_matrix"
   ],
   "metadata": {
    "collapsed": false,
    "pycharm": {
     "name": "#%%\n"
    }
   }
  },
  {
   "cell_type": "code",
   "execution_count": 21,
   "outputs": [
    {
     "name": "stderr",
     "output_type": "stream",
     "text": [
      "/tmp/ipykernel_926687/1354441053.py:32: RuntimeWarning: divide by zero encountered in power\n",
      "  V = np.diag(t**(-0.5))\n"
     ]
    }
   ],
   "source": [
    "ten_Pixel = torch.from_numpy(pixel_matrix)\n",
    "lapula = Lapula(ten_Pixel,28*28,True)"
   ],
   "metadata": {
    "collapsed": false,
    "pycharm": {
     "name": "#%%\n"
    }
   }
  },
  {
   "cell_type": "code",
   "execution_count": 22,
   "outputs": [
    {
     "data": {
      "text/plain": "(784, 784)"
     },
     "execution_count": 22,
     "metadata": {},
     "output_type": "execute_result"
    }
   ],
   "source": [
    "lapula.shape"
   ],
   "metadata": {
    "collapsed": false,
    "pycharm": {
     "name": "#%%\n"
    }
   }
  },
  {
   "cell_type": "code",
   "execution_count": 23,
   "outputs": [],
   "source": [
    "# Function using to calculate eigenvalues and eigenvector\n",
    "def eigvalueAeigvector(matrix):\n",
    "\n",
    "    lapula_ten = torch.from_numpy(matrix)\n",
    "    eigenvalues, eigenvectors = torch.eig(lapula_ten, eigenvectors=True)\n",
    "    return [eigenvalues,eigenvectors]"
   ],
   "metadata": {
    "collapsed": false,
    "pycharm": {
     "name": "#%%\n"
    }
   }
  },
  {
   "cell_type": "code",
   "execution_count": 24,
   "outputs": [
    {
     "name": "stderr",
     "output_type": "stream",
     "text": [
      "/tmp/ipykernel_926687/1364761665.py:5: UserWarning: torch.eig is deprecated in favor of torch.linalg.eig and will be removed in a future PyTorch release.\n",
      "torch.linalg.eig returns complex tensors of dtype cfloat or cdouble rather than real tensors mimicking complex tensors.\n",
      "L, _ = torch.eig(A)\n",
      "should be replaced with\n",
      "L_complex = torch.linalg.eigvals(A)\n",
      "and\n",
      "L, V = torch.eig(A, eigenvectors=True)\n",
      "should be replaced with\n",
      "L_complex, V_complex = torch.linalg.eig(A) (Triggered internally at  ../aten/src/ATen/native/BatchLinearAlgebra.cpp:2910.)\n",
      "  eigenvalues, eigenvectors = torch.eig(lapula_ten, eigenvectors=True)\n"
     ]
    }
   ],
   "source": [
    "eigenvalue, eigenvector = eigvalueAeigvector(lapula)"
   ],
   "metadata": {
    "collapsed": false,
    "pycharm": {
     "name": "#%%\n"
    }
   }
  },
  {
   "cell_type": "code",
   "execution_count": 25,
   "outputs": [
    {
     "data": {
      "text/plain": "(torch.Size([784, 2]), torch.Size([784, 784]))"
     },
     "execution_count": 25,
     "metadata": {},
     "output_type": "execute_result"
    }
   ],
   "source": [
    "eigenvalue.shape,eigenvector.shape"
   ],
   "metadata": {
    "collapsed": false,
    "pycharm": {
     "name": "#%%\n"
    }
   }
  },
  {
   "cell_type": "code",
   "execution_count": 26,
   "outputs": [],
   "source": [
    "def sort(eigenvalues,eigenvectors):\n",
    "    sort_value = torch.empty((eigenvalues.shape[0],2),dtype=torch.float64)\n",
    "    sort_vector = torch.empty((eigenvectors.shape[0],eigenvectors.shape[1]),dtype=torch.float64)\n",
    "    # print(sort_vector.shape)\n",
    "    r = np.argsort(eigenvalues[:,0])\n",
    "    # print(r)\n",
    "    i = 0\n",
    "    for x in iter(r):\n",
    "        # print(eigenvalues[x,0:2])\n",
    "        sort_value[i,:]= eigenvalues[x,:]\n",
    "        sort_vector[:,i] = eigenvectors[:,x]\n",
    "        # sort_value[i,1]= eigenvalues[x,1]\n",
    "        i += 1\n",
    "    return sort_value, sort_vector"
   ],
   "metadata": {
    "collapsed": false,
    "pycharm": {
     "name": "#%%\n"
    }
   }
  },
  {
   "cell_type": "code",
   "execution_count": 27,
   "outputs": [],
   "source": [
    "s_eigenvalue, s_eigenvector = sort(eigenvalue,eigenvector)"
   ],
   "metadata": {
    "collapsed": false,
    "pycharm": {
     "name": "#%%\n"
    }
   }
  },
  {
   "cell_type": "code",
   "execution_count": 28,
   "outputs": [
    {
     "data": {
      "text/plain": "(torch.Size([784, 2]), torch.Size([784, 784]))"
     },
     "execution_count": 28,
     "metadata": {},
     "output_type": "execute_result"
    }
   ],
   "source": [
    "s_eigenvalue.shape, s_eigenvector.shape"
   ],
   "metadata": {
    "collapsed": false,
    "pycharm": {
     "name": "#%%\n"
    }
   }
  },
  {
   "cell_type": "code",
   "execution_count": 66,
   "outputs": [
    {
     "data": {
      "text/plain": "719"
     },
     "execution_count": 66,
     "metadata": {},
     "output_type": "execute_result"
    }
   ],
   "source": [
    "t = 0\n",
    "for i in iter(s_eigenvalue):\n",
    "    if i[0] == 0:\n",
    "        t += 1\n",
    "    else:\n",
    "        break\n",
    "t"
   ],
   "metadata": {
    "collapsed": false,
    "pycharm": {
     "name": "#%%\n"
    }
   }
  },
  {
   "cell_type": "code",
   "execution_count": 91,
   "outputs": [
    {
     "data": {
      "text/plain": "torch.Size([784])"
     },
     "execution_count": 91,
     "metadata": {},
     "output_type": "execute_result"
    }
   ],
   "source": [
    "img1 = s_eigenvector[:,719]\n",
    "img2 = s_eigenvector[:,720]\n",
    "img3 = s_eigenvector[:,721]\n",
    "img4 = s_eigenvector[:,722]\n",
    "img5 = s_eigenvector[:,723]\n",
    "img1.data.shape"
   ],
   "metadata": {
    "collapsed": false,
    "pycharm": {
     "name": "#%%\n"
    }
   }
  },
  {
   "cell_type": "code",
   "execution_count": 92,
   "outputs": [
    {
     "data": {
      "text/plain": "torch.Size([28, 28, 1])"
     },
     "execution_count": 92,
     "metadata": {},
     "output_type": "execute_result"
    }
   ],
   "source": [
    "i_s1 = img1.reshape(28,28,1)\n",
    "i_s1.shape"
   ],
   "metadata": {
    "collapsed": false,
    "pycharm": {
     "name": "#%%\n"
    }
   }
  },
  {
   "cell_type": "code",
   "execution_count": 93,
   "outputs": [
    {
     "data": {
      "text/plain": "<matplotlib.image.AxesImage at 0x7fab2b5da110>"
     },
     "execution_count": 93,
     "metadata": {},
     "output_type": "execute_result"
    },
    {
     "data": {
      "text/plain": "<Figure size 432x288 with 1 Axes>",
      "image/png": "[encoded data removed]"
     },
     "metadata": {
      "needs_background": "light"
     },
     "output_type": "display_data"
    }
   ],
   "source": [
    "plt.imshow(i_s1.detach().numpy())"
   ],
   "metadata": {
    "collapsed": false,
    "pycharm": {
     "name": "#%%\n"
    }
   }
  },
  {
   "cell_type": "code",
   "execution_count": 95,
   "outputs": [
    {
     "data": {
      "text/plain": "<matplotlib.image.AxesImage at 0x7fab2b2e2080>"
     },
     "execution_count": 95,
     "metadata": {},
     "output_type": "execute_result"
    },
    {
     "data": {
      "text/plain": "<Figure size 432x288 with 1 Axes>",
      "image/png": "[encoded data removed]"
     },
     "metadata": {
      "needs_background": "light"
     },
     "output_type": "display_data"
    }
   ],
   "source": [
    "c = y.squeeze()\n",
    "plt.imshow(c.detach().numpy())"
   ],
   "metadata": {
    "collapsed": false,
    "pycharm": {
     "name": "#%%\n"
    }
   }
  },
  {
   "cell_type": "code",
   "execution_count": 99,
   "outputs": [
    {
     "data": {
      "text/plain": "<Figure size 460800x460800 with 0 Axes>"
     },
     "metadata": {},
     "output_type": "display_data"
    },
    {
     "data": {
      "text/plain": "<Figure size 2016x2016 with 6 Axes>",
      "image/png": "[encoded data removed]"
     },
     "metadata": {
      "needs_background": "light"
     },
     "output_type": "display_data"
    }
   ],
   "source": [
    "fig = plt.figure(figsize=(800*8,800*8))\n",
    "\n",
    "fig, ax = plt.subplots(1,6,figsize=(28, 28))\n",
    "plt.subplots_adjust(left=None, bottom=None, right=None, top=None, wspace=None, hspace=1.0)\n",
    "a1 = ax[0].imshow(c.detach().numpy())\n",
    "plt.axis('off')\n",
    "ax[0].set_title('real image')\n",
    "\n",
    "\n",
    "\n",
    "a2 = ax[1].imshow(img1.reshape(28,28,1).detach().numpy())\n",
    "ax[1].set_title('eigenvalue:%0.2f'%s_eigenvalue.detach().numpy()[719][0])\n",
    "plt.axis('off')\n",
    "\n",
    "a3 = ax[2].imshow(img2.reshape(28,28,1).detach().numpy())\n",
    "ax[2].set_title('eigenvalue:%0.2f'%s_eigenvalue.detach().numpy()[720][0])\n",
    "plt.axis('off')\n",
    "\n",
    "a4 = ax[3].imshow(img3.reshape(28,28,1).detach().numpy())\n",
    "ax[3].set_title('eigenvalue:%0.2f'%s_eigenvalue.detach().numpy()[721][0])\n",
    "plt.axis('off')\n",
    "\n",
    "a5 = ax[4].imshow(img4.reshape(28,28,1).detach().numpy())\n",
    "ax[4].set_title('eigenvalue:%0.2f'%s_eigenvalue.detach().numpy()[722][0])\n",
    "plt.axis('off')\n",
    "\n",
    "a6 = ax[5].imshow(img5.reshape(28,28,1).detach().numpy())\n",
    "ax[5].set_title('eigenvalue:%0.2f'%s_eigenvalue.detach().numpy()[723][0])\n",
    "plt.axis('off')\n",
    "\n",
    "plt.tight_layout() # automatically adjust image distance\n",
    "# plt.subplots_adjust(wspace =2, hspace =0)"
   ],
   "metadata": {
    "collapsed": false,
    "pycharm": {
     "name": "#%%\n"
    }
   }
  },
  {
   "cell_type": "code",
   "execution_count": null,
   "outputs": [],
   "source": [],
   "metadata": {
    "collapsed": false,
    "pycharm": {
     "name": "#%%\n"
    }
   }
  }
 ],
 "metadata": {
  "kernelspec": {
   "display_name": "Python 3",
   "language": "python",
   "name": "python3"
  },
  "language_info": {
   "codemirror_mode": {
    "name": "ipython",
    "version": 2
   },
   "file_extension": ".py",
   "mimetype": "text/x-python",
   "name": "python",
   "nbconvert_exporter": "python",
   "pygments_lexer": "ipython2",
   "version": "2.7.6"
  }
 },
 "nbformat": 4,
 "nbformat_minor": 0
}