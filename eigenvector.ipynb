{
 "cells": [
  {
   "cell_type": "code",
   "execution_count": 1,
   "outputs": [],
   "source": [
    "from NetworkStructure import Generator\n",
    "from NetworkStructure import Discriminator\n",
    "import numpy as np\n",
    "import matplotlib.pyplot as plt\n",
    "from scipy.sparse.linalg import eigsh\n",
    "from torch.autograd import Variable\n",
    "from torch.functional import Tensor\n",
    "from torchvision import transforms\n",
    "from torch import nn\n",
    "import torch\n",
    "import torchextractor as tx\n",
    "import torchvision\n",
    "%matplotlib inline\n",
    "import torch"
   ],
   "metadata": {
    "collapsed": false,
    "pycharm": {
     "name": "#%%\n"
    }
   }
  },
  {
   "cell_type": "code",
   "execution_count": 2,
   "outputs": [],
   "source": [
    "# parameters\n",
    "image_size = 28\n",
    "img_shape = 1,28,28\n",
    "latent_dim = 100\n",
    "image_channel = 1\n",
    "batch_size = 1"
   ],
   "metadata": {
    "collapsed": false,
    "pycharm": {
     "name": "#%%\n"
    }
   }
  },
  {
   "cell_type": "code",
   "execution_count": 3,
   "outputs": [],
   "source": [
    "data_transform = transforms.Compose(\n",
    "    [\n",
    "        transforms.CenterCrop(28),\n",
    "        transforms.ToTensor(),\n",
    "        transforms.Normalize(0.5, 0.5),\n",
    "    ]\n",
    ")\n",
    "\n",
    "train_dataset = torchvision.datasets.MNIST(\"./data\", train=True, download=True,transform=data_transform)\n",
    "# test_dataset = torchvision.datasets.MNIST(\"./data\", train=False,download=True,transform=data_transform)\n",
    "# min_test = torch.utils.data.Subset(test_dataset, torch.arange(1000))\n",
    "train_dataloader = torch.utils.data.DataLoader(\n",
    "    train_dataset,\n",
    "    batch_size= batch_size,\n",
    "    num_workers=2,\n",
    "    shuffle=True,\n",
    "    drop_last=True,\n",
    ")\n",
    "\n",
    "# train_data = enumerate(train_dataloader)\n",
    "# a = next(train_data)\n",
    "# a[1][0].shape\n",
    "# enumerate = tuple(0,data) tuple(1,data) tuple(number,data)\n",
    "# iter = list[data]\n",
    "# data = list[data,label]\n",
    "train_data = iter(train_dataloader)\n",
    "# a = next(train_data)\n",
    "# a[0].shape"
   ],
   "metadata": {
    "collapsed": false,
    "pycharm": {
     "name": "#%%\n"
    }
   }
  },
  {
   "cell_type": "code",
   "execution_count": 4,
   "outputs": [
    {
     "data": {
      "text/plain": "(torch.Size([1, 1, 28, 28]), torch.Size([1, 100]))"
     },
     "execution_count": 4,
     "metadata": {},
     "output_type": "execute_result"
    }
   ],
   "source": [
    "# Prepare noisy Data\n",
    "# get fist batch to train\n",
    "real_images, label = next(train_data)\n",
    "noisy = Variable(Tensor(np.random.normal(0, 1, (real_images.shape[0], latent_dim))))\n",
    "# we can't create noisy at first, because the last batch may be smaller than batch_size\n",
    "real_images.shape, noisy.shape"
   ],
   "metadata": {
    "collapsed": false,
    "pycharm": {
     "name": "#%%\n"
    }
   }
  },
  {
   "cell_type": "code",
   "execution_count": 5,
   "outputs": [
    {
     "data": {
      "text/plain": "Discriminator(\n  (model): Sequential(\n    (0): Conv2d(1, 16, kernel_size=(3, 3), stride=(2, 2), padding=(1, 1))\n    (1): LeakyReLU(negative_slope=0.2, inplace=True)\n    (2): Dropout2d(p=0.25, inplace=False)\n    (3): Conv2d(16, 32, kernel_size=(3, 3), stride=(2, 2), padding=(1, 1))\n    (4): LeakyReLU(negative_slope=0.2, inplace=True)\n    (5): Dropout2d(p=0.25, inplace=False)\n    (6): BatchNorm2d(32, eps=0.8, momentum=0.1, affine=True, track_running_stats=True)\n    (7): Conv2d(32, 64, kernel_size=(3, 3), stride=(2, 2), padding=(1, 1))\n    (8): LeakyReLU(negative_slope=0.2, inplace=True)\n    (9): Dropout2d(p=0.25, inplace=False)\n    (10): BatchNorm2d(64, eps=0.8, momentum=0.1, affine=True, track_running_stats=True)\n    (11): Conv2d(64, 128, kernel_size=(3, 3), stride=(2, 2), padding=(1, 1))\n    (12): LeakyReLU(negative_slope=0.2, inplace=True)\n    (13): Dropout2d(p=0.25, inplace=False)\n    (14): BatchNorm2d(128, eps=0.8, momentum=0.1, affine=True, track_running_stats=True)\n  )\n  (adv_layer): Sequential(\n    (0): Linear(in_features=512, out_features=1, bias=True)\n    (1): Sigmoid()\n  )\n)"
     },
     "execution_count": 5,
     "metadata": {},
     "output_type": "execute_result"
    }
   ],
   "source": [
    "PATH_G = \"./pre-train/checkpoint389G\"\n",
    "PATH_D = \"./pre-train/checkpoint389D\"\n",
    "checkpoint_G = torch.load(PATH_G)\n",
    "checkpoint_D = torch.load(PATH_D)\n",
    "model_G = Generator(image_size, latent_dim, image_channel)\n",
    "model_D = Discriminator(image_channel)\n",
    "model_G.load_state_dict(checkpoint_G['model_state_dict']) # print every layer name\n",
    "model_D.load_state_dict(checkpoint_D['model_state_dict'])\n",
    "model_G.eval()\n",
    "model_D.eval()"
   ],
   "metadata": {
    "collapsed": false,
    "pycharm": {
     "name": "#%%\n"
    }
   }
  },
  {
   "cell_type": "code",
   "execution_count": 6,
   "outputs": [
    {
     "data": {
      "text/plain": "(torch.Size([1, 1, 28, 28]), torch.Size([1]))"
     },
     "execution_count": 6,
     "metadata": {},
     "output_type": "execute_result"
    }
   ],
   "source": [
    "data = next(train_data)\n",
    "data[0].shape, data[1].shape"
   ],
   "metadata": {
    "collapsed": false,
    "pycharm": {
     "name": "#%%\n"
    }
   }
  },
  {
   "cell_type": "code",
   "execution_count": 7,
   "outputs": [
    {
     "data": {
      "text/plain": "(['',\n  'l1',\n  'l1.0',\n  'conv_blocks',\n  'conv_blocks.0',\n  'conv_blocks.1',\n  'conv_blocks.2',\n  'conv_blocks.3',\n  'conv_blocks.4',\n  'conv_blocks.5',\n  'conv_blocks.6',\n  'conv_blocks.7',\n  'conv_blocks.8',\n  'conv_blocks.9',\n  'conv_blocks.10'],\n ['',\n  'model',\n  'model.0',\n  'model.1',\n  'model.2',\n  'model.3',\n  'model.4',\n  'model.5',\n  'model.6',\n  'model.7',\n  'model.8',\n  'model.9',\n  'model.10',\n  'model.11',\n  'model.12',\n  'model.13',\n  'model.14',\n  'adv_layer',\n  'adv_layer.0',\n  'adv_layer.1'])"
     },
     "execution_count": 7,
     "metadata": {},
     "output_type": "execute_result"
    }
   ],
   "source": [
    "# show layer name in model\n",
    "G_name_list = tx.list_module_names(model_G)\n",
    "D_name_list = tx.list_module_names(model_D)\n",
    "G_name_list,D_name_list"
   ],
   "metadata": {
    "collapsed": false,
    "pycharm": {
     "name": "#%%\n"
    }
   }
  },
  {
   "cell_type": "code",
   "execution_count": 8,
   "outputs": [
    {
     "data": {
      "text/plain": "(Extractor(\n   (model): Discriminator(\n     (model): Sequential(\n       (0): Conv2d(1, 16, kernel_size=(3, 3), stride=(2, 2), padding=(1, 1))\n       (1): LeakyReLU(negative_slope=0.2, inplace=True)\n       (2): Dropout2d(p=0.25, inplace=False)\n       (3): Conv2d(16, 32, kernel_size=(3, 3), stride=(2, 2), padding=(1, 1))\n       (4): LeakyReLU(negative_slope=0.2, inplace=True)\n       (5): Dropout2d(p=0.25, inplace=False)\n       (6): BatchNorm2d(32, eps=0.8, momentum=0.1, affine=True, track_running_stats=True)\n       (7): Conv2d(32, 64, kernel_size=(3, 3), stride=(2, 2), padding=(1, 1))\n       (8): LeakyReLU(negative_slope=0.2, inplace=True)\n       (9): Dropout2d(p=0.25, inplace=False)\n       (10): BatchNorm2d(64, eps=0.8, momentum=0.1, affine=True, track_running_stats=True)\n       (11): Conv2d(64, 128, kernel_size=(3, 3), stride=(2, 2), padding=(1, 1))\n       (12): LeakyReLU(negative_slope=0.2, inplace=True)\n       (13): Dropout2d(p=0.25, inplace=False)\n       (14): BatchNorm2d(128, eps=0.8, momentum=0.1, affine=True, track_running_stats=True)\n     )\n     (adv_layer): Sequential(\n       (0): Linear(in_features=512, out_features=1, bias=True)\n       (1): Sigmoid()\n     )\n   )\n ),\n Extractor(\n   (model): Generator(\n     (l1): Sequential(\n       (0): Linear(in_features=100, out_features=6272, bias=True)\n     )\n     (conv_blocks): Sequential(\n       (0): BatchNorm2d(128, eps=1e-05, momentum=0.1, affine=True, track_running_stats=True)\n       (1): Upsample(scale_factor=2.0, mode=nearest)\n       (2): Conv2d(128, 128, kernel_size=(3, 3), stride=(1, 1), padding=(1, 1))\n       (3): BatchNorm2d(128, eps=0.8, momentum=0.1, affine=True, track_running_stats=True)\n       (4): LeakyReLU(negative_slope=0.2, inplace=True)\n       (5): Upsample(scale_factor=2.0, mode=nearest)\n       (6): Conv2d(128, 64, kernel_size=(3, 3), stride=(1, 1), padding=(1, 1))\n       (7): BatchNorm2d(64, eps=0.8, momentum=0.1, affine=True, track_running_stats=True)\n       (8): LeakyReLU(negative_slope=0.2, inplace=True)\n       (9): Conv2d(64, 1, kernel_size=(3, 3), stride=(1, 1), padding=(1, 1))\n       (10): Tanh()\n     )\n   )\n ))"
     },
     "execution_count": 8,
     "metadata": {},
     "output_type": "execute_result"
    }
   ],
   "source": [
    "# Specify the intermediate layer to be extracted\n",
    "layer_G = tx.Extractor(model_G, [\"conv_blocks.7\"])\n",
    "layer_D = tx.Extractor(model_D, [\"model.11\"])\n",
    "layer_D,layer_G"
   ],
   "metadata": {
    "collapsed": false,
    "pycharm": {
     "name": "#%%\n"
    }
   }
  },
  {
   "cell_type": "code",
   "execution_count": 9,
   "outputs": [
    {
     "data": {
      "text/plain": "(torch.Size([1, 64, 28, 28]),\n torch.Size([1, 128, 2, 2]),\n torch.Size([1, 128, 2, 2]))"
     },
     "execution_count": 9,
     "metadata": {},
     "output_type": "execute_result"
    }
   ],
   "source": [
    "# extract model layer and get final result\n",
    "# get feature map in the model\n",
    "gen_img, p = layer_G(noisy)\n",
    "lable_real, q = layer_D(real_images,)\n",
    "label_fake, r = layer_D(gen_img)\n",
    "x = real_images\n",
    "y = gen_img\n",
    "fp_G = p[\"conv_blocks.7\"] # feature map in generator 100 should be a parameter(100,64,28,28)\n",
    "fp_RD = q[\"model.11\"]   # real image feature map in discriminator(100,128,2,2)\n",
    "fp_FD = r[\"model.11\"]    # fake image feature map in discriminator\n",
    "# gen_img.shape, label_fake.shape, lable_real.shape\n",
    "fp_G.shape, fp_FD.shape, fp_RD.shape"
   ],
   "metadata": {
    "collapsed": false,
    "pycharm": {
     "name": "#%%\n"
    }
   }
  },
  {
   "cell_type": "code",
   "execution_count": 10,
   "outputs": [
    {
     "data": {
      "text/plain": "torch.Size([64, 28, 28])"
     },
     "execution_count": 10,
     "metadata": {},
     "output_type": "execute_result"
    }
   ],
   "source": [
    "feature_map = fp_G.squeeze()\n",
    "feature_map.shape"
   ],
   "metadata": {
    "collapsed": false,
    "pycharm": {
     "name": "#%%\n"
    }
   }
  },
  {
   "cell_type": "code",
   "execution_count": 11,
   "outputs": [
    {
     "data": {
      "text/plain": "(torch.Size([784, 64]),\n torch.Size([784, 784]),\n tensor([[ 2.4961,  0.4485, -0.0000,  ..., -0.0000, -0.0000, -0.0000],\n         [ 0.4485,  5.3831, -0.0000,  ..., -0.0000, -0.0000, -0.0000],\n         [-0.0000, -0.0000, 17.8446,  ...,  9.1772, -0.0000,  7.6685],\n         ...,\n         [-0.0000, -0.0000,  9.1772,  ..., 25.1952, -0.0000,  5.1725],\n         [-0.0000, -0.0000, -0.0000,  ..., -0.0000, 11.7561, -0.0000],\n         [-0.0000, -0.0000,  7.6685,  ...,  5.1725, -0.0000, 16.5205]],\n        grad_fn=<MulBackward0>))"
     },
     "execution_count": 11,
     "metadata": {},
     "output_type": "execute_result"
    }
   ],
   "source": [
    "feat = feature_map.reshape(-1,64)\n",
    "W = feat@feat.T\n",
    "W = (W * (W>0))\n",
    "feat.shape, W.shape,W"
   ],
   "metadata": {
    "collapsed": false,
    "pycharm": {
     "name": "#%%\n"
    }
   }
  },
  {
   "cell_type": "code",
   "execution_count": 18,
   "outputs": [],
   "source": [
    "# Function using to calculate eigenvalues and eigenvector\n",
    "def eigvalueAeigvector(matrix):\n",
    "\n",
    "    # lapula_ten = torch.from_numpy(matrix)\n",
    "    eigenvalues, eigenvectors = torch.eig(matrix, eigenvectors=True)\n",
    "    return [eigenvalues,eigenvectors]"
   ],
   "metadata": {
    "collapsed": false,
    "pycharm": {
     "name": "#%%\n"
    }
   }
  },
  {
   "cell_type": "code",
   "execution_count": 44,
   "outputs": [
    {
     "data": {
      "text/plain": "tensor([[5.1312e+01, 0.0000e+00],\n        [2.3131e+01, 0.0000e+00],\n        [2.1288e+01, 0.0000e+00],\n        ...,\n        [1.1234e-03, 0.0000e+00],\n        [1.5005e-03, 0.0000e+00],\n        [1.3991e-03, 0.0000e+00]], grad_fn=<EigBackward0>)"
     },
     "execution_count": 44,
     "metadata": {},
     "output_type": "execute_result"
    }
   ],
   "source": [
    "W_nor = W/W.max()\n",
    "eigenvalue, eigenvector = eigvalueAeigvector(W_nor)\n",
    "eigenvalue"
   ],
   "metadata": {
    "collapsed": false,
    "pycharm": {
     "name": "#%%\n"
    }
   }
  },
  {
   "cell_type": "code",
   "execution_count": 45,
   "outputs": [
    {
     "data": {
      "text/plain": "(torch.Size([784, 2]), torch.Size([784, 784]))"
     },
     "execution_count": 45,
     "metadata": {},
     "output_type": "execute_result"
    }
   ],
   "source": [
    "eigenvalue.shape,eigenvector.shape"
   ],
   "metadata": {
    "collapsed": false,
    "pycharm": {
     "name": "#%%\n"
    }
   }
  },
  {
   "cell_type": "code",
   "execution_count": 46,
   "outputs": [],
   "source": [
    "def sort(eigenvalues,eigenvectors):\n",
    "\n",
    "    sort_value = torch.empty((eigenvalues.shape[0],2),dtype=torch.float64)\n",
    "    sort_vector = torch.empty((eigenvectors.shape[0],eigenvectors.shape[1]),dtype=torch.float64)\n",
    "    # print(sort_vector.shape)\n",
    "    r = np.argsort(eigenvalues.detach().numpy()[:,0])\n",
    "    # print(r)\n",
    "    i = 0\n",
    "    for x in iter(r):\n",
    "        # print(eigenvalues[x,0:2])\n",
    "        sort_value[i,:]= eigenvalues[x,:]\n",
    "        sort_vector[:,i] = eigenvectors[:,x]\n",
    "        # sort_value[i,1]= eigenvalues[x,1]\n",
    "        i += 1\n",
    "    return sort_value, sort_vector"
   ],
   "metadata": {
    "collapsed": false,
    "pycharm": {
     "name": "#%%\n"
    }
   }
  },
  {
   "cell_type": "code",
   "execution_count": 64,
   "outputs": [
    {
     "data": {
      "text/plain": "tensor([8.5225e-05, 0.0000e+00], dtype=torch.float64,\n       grad_fn=<SelectBackward0>)"
     },
     "execution_count": 64,
     "metadata": {},
     "output_type": "execute_result"
    }
   ],
   "source": [
    "s_eigenvalue, s_eigenvector = sort(eigenvalue,eigenvector)\n",
    "s_eigenvalue[364]"
   ],
   "metadata": {
    "collapsed": false,
    "pycharm": {
     "name": "#%%\n"
    }
   }
  },
  {
   "cell_type": "code",
   "execution_count": 48,
   "outputs": [
    {
     "data": {
      "text/plain": "(torch.Size([784, 2]),\n torch.Size([784, 784]),\n tensor([[-0.9570,  0.0000],\n         [-0.9178,  0.0000],\n         [-0.8551,  0.0000],\n         ...,\n         [21.2877,  0.0000],\n         [23.1314,  0.0000],\n         [51.3117,  0.0000]], dtype=torch.float64, grad_fn=<CopySlices>))"
     },
     "execution_count": 48,
     "metadata": {},
     "output_type": "execute_result"
    }
   ],
   "source": [
    "s_eigenvalue.shape, s_eigenvector.shape, s_eigenvalue"
   ],
   "metadata": {
    "collapsed": false,
    "pycharm": {
     "name": "#%%\n"
    }
   }
  },
  {
   "cell_type": "code",
   "execution_count": 99,
   "outputs": [
    {
     "data": {
      "text/plain": "680"
     },
     "execution_count": 99,
     "metadata": {},
     "output_type": "execute_result"
    }
   ],
   "source": [
    "t = 0\n",
    "for i in iter(s_eigenvalue):\n",
    "    if i[0] > 0.1:\n",
    "        break\n",
    "    else:\n",
    "        t += 1\n",
    "t"
   ],
   "metadata": {
    "collapsed": false,
    "pycharm": {
     "name": "#%%\n"
    }
   }
  },
  {
   "cell_type": "code",
   "execution_count": 100,
   "outputs": [
    {
     "data": {
      "text/plain": "torch.Size([784])"
     },
     "execution_count": 100,
     "metadata": {},
     "output_type": "execute_result"
    }
   ],
   "source": [
    "img1 = s_eigenvector[:,680]\n",
    "img2 = s_eigenvector[:,681]\n",
    "img3 = s_eigenvector[:,682]\n",
    "img4 = s_eigenvector[:,683]\n",
    "img5 = s_eigenvector[:,684]\n",
    "img1.data.shape"
   ],
   "metadata": {
    "collapsed": false,
    "pycharm": {
     "name": "#%%\n"
    }
   }
  },
  {
   "cell_type": "code",
   "execution_count": 101,
   "outputs": [
    {
     "data": {
      "text/plain": "torch.Size([28, 28, 1])"
     },
     "execution_count": 101,
     "metadata": {},
     "output_type": "execute_result"
    }
   ],
   "source": [
    "i_s1 = img1.reshape(28,28,1)\n",
    "i_s1.shape"
   ],
   "metadata": {
    "collapsed": false,
    "pycharm": {
     "name": "#%%\n"
    }
   }
  },
  {
   "cell_type": "code",
   "execution_count": 102,
   "outputs": [
    {
     "data": {
      "text/plain": "<matplotlib.image.AxesImage at 0x7fa4e8171b70>"
     },
     "execution_count": 102,
     "metadata": {},
     "output_type": "execute_result"
    },
    {
     "data": {
      "text/plain": "<Figure size 432x288 with 1 Axes>",
      "image/png": "[encoded data removed]"
     },
     "metadata": {
      "needs_background": "light"
     },
     "output_type": "display_data"
    }
   ],
   "source": [
    "plt.imshow(i_s1.detach().numpy())"
   ],
   "metadata": {
    "collapsed": false,
    "pycharm": {
     "name": "#%%\n"
    }
   }
  },
  {
   "cell_type": "code",
   "execution_count": 103,
   "outputs": [
    {
     "data": {
      "text/plain": "<matplotlib.image.AxesImage at 0x7fa4e8188e50>"
     },
     "execution_count": 103,
     "metadata": {},
     "output_type": "execute_result"
    },
    {
     "data": {
      "text/plain": "<Figure size 432x288 with 1 Axes>",
      "image/png": "[encoded data removed]"
     },
     "metadata": {
      "needs_background": "light"
     },
     "output_type": "display_data"
    }
   ],
   "source": [
    "c = y.squeeze()\n",
    "plt.imshow(c.detach().numpy())"
   ],
   "metadata": {
    "collapsed": false,
    "pycharm": {
     "name": "#%%\n"
    }
   }
  },
  {
   "cell_type": "code",
   "execution_count": 104,
   "outputs": [
    {
     "data": {
      "text/plain": "<Figure size 460800x460800 with 0 Axes>"
     },
     "metadata": {},
     "output_type": "display_data"
    },
    {
     "data": {
      "text/plain": "<Figure size 2016x2016 with 6 Axes>",
      "image/png": "[encoded data removed]"
     },
     "metadata": {
      "needs_background": "light"
     },
     "output_type": "display_data"
    }
   ],
   "source": [
    "fig = plt.figure(figsize=(800*8,800*8))\n",
    "\n",
    "fig, ax = plt.subplots(1,6,figsize=(28, 28))\n",
    "plt.subplots_adjust(left=None, bottom=None, right=None, top=None, wspace=None, hspace=1.0)\n",
    "a1 = ax[0].imshow(c.detach().numpy())\n",
    "plt.axis('off')\n",
    "ax[0].set_title('real image')\n",
    "\n",
    "\n",
    "\n",
    "a2 = ax[1].imshow(img1.reshape(28,28,1).detach().numpy())\n",
    "ax[1].set_title('eigenvalue:%0.2f'%s_eigenvalue.detach().numpy()[680][0])\n",
    "plt.axis('off')\n",
    "\n",
    "a3 = ax[2].imshow(img2.reshape(28,28,1).detach().numpy())\n",
    "ax[2].set_title('eigenvalue:%0.2f'%s_eigenvalue.detach().numpy()[681][0])\n",
    "plt.axis('off')\n",
    "\n",
    "a4 = ax[3].imshow(img3.reshape(28,28,1).detach().numpy())\n",
    "ax[3].set_title('eigenvalue:%0.2f'%s_eigenvalue.detach().numpy()[682][0])\n",
    "plt.axis('off')\n",
    "\n",
    "a5 = ax[4].imshow(img4.reshape(28,28,1).detach().numpy())\n",
    "ax[4].set_title('eigenvalue:%f'%s_eigenvalue.detach().numpy()[683][0])\n",
    "plt.axis('off')\n",
    "\n",
    "a6 = ax[5].imshow(img5.reshape(28,28,1).detach().numpy())\n",
    "ax[5].set_title('eigenvalue:%f'%s_eigenvalue.detach().numpy()[684][0])\n",
    "plt.axis('off')\n",
    "\n",
    "plt.tight_layout() # automatically adjust image distance\n",
    "# plt.subplots_adjust(wspace =2, hspace =0)"
   ],
   "metadata": {
    "collapsed": false,
    "pycharm": {
     "name": "#%%\n"
    }
   }
  },
  {
   "cell_type": "code",
   "execution_count": 98,
   "outputs": [],
   "source": [],
   "metadata": {
    "collapsed": false,
    "pycharm": {
     "name": "#%%\n"
    }
   }
  },
  {
   "cell_type": "code",
   "execution_count": null,
   "outputs": [],
   "source": [],
   "metadata": {
    "collapsed": false,
    "pycharm": {
     "name": "#%%\n"
    }
   }
  }
 ],
 "metadata": {
  "kernelspec": {
   "display_name": "Python 3",
   "language": "python",
   "name": "python3"
  },
  "language_info": {
   "codemirror_mode": {
    "name": "ipython",
    "version": 2
   },
   "file_extension": ".py",
   "mimetype": "text/x-python",
   "name": "python",
   "nbconvert_exporter": "python",
   "pygments_lexer": "ipython2",
   "version": "2.7.6"
  }
 },
 "nbformat": 4,
 "nbformat_minor": 0
}